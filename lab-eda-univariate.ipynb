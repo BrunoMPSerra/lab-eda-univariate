{
 "cells": [
  {
   "cell_type": "code",
   "execution_count": null,
   "metadata": {},
   "outputs": [],
   "source": [
    "!pip install plotly\n",
    "!pip install matplotlib\n",
    "!pip install nbformat"
   ]
  },
  {
   "cell_type": "code",
   "execution_count": 2,
   "metadata": {},
   "outputs": [],
   "source": [
    "import pandas as pd\n",
    "import plotly.express as px\n",
    "import numpy as np\n",
    "import matplotlib.pyplot as plt\n",
    "\n",
    "%matplotlib inline\n",
    "\n",
    "pd.options.display.max_columns = 500"
   ]
  },
  {
   "cell_type": "code",
   "execution_count": 3,
   "metadata": {},
   "outputs": [],
   "source": [
    "df = pd.read_csv(\"C:/Users/Bruno/Desktop/Ironhack/Study Material/Labs/Week 13/Exercise 1/lab-eda-univariate/amz_uk_price_prediction_dataset.csv\")\n"
   ]
  },
  {
   "cell_type": "code",
   "execution_count": null,
   "metadata": {},
   "outputs": [],
   "source": [
    "df.head()"
   ]
  },
  {
   "cell_type": "code",
   "execution_count": null,
   "metadata": {},
   "outputs": [],
   "source": [
    "df.shape"
   ]
  },
  {
   "cell_type": "code",
   "execution_count": null,
   "metadata": {},
   "outputs": [],
   "source": [
    "# Generate frequency table for product categories\n",
    "category_frequency = df['category'].value_counts()\n",
    "\n",
    "# Display the frequency table\n",
    "print(category_frequency)"
   ]
  },
  {
   "cell_type": "code",
   "execution_count": null,
   "metadata": {},
   "outputs": [],
   "source": [
    "top_5_categories = category_frequency.head(5)\n",
    "\n",
    "print(\"Top 5 Most Listed Product Categories:\")\n",
    "print(top_5_categories)"
   ]
  },
  {
   "cell_type": "code",
   "execution_count": null,
   "metadata": {},
   "outputs": [],
   "source": [
    "proportion_table = df['category'].value_counts(normalize=True)\n",
    "\n",
    "proportion_table"
   ]
  },
  {
   "cell_type": "code",
   "execution_count": null,
   "metadata": {},
   "outputs": [],
   "source": [
    "px.histogram(x=category_frequency.index, y=category_frequency.values)"
   ]
  },
  {
   "cell_type": "code",
   "execution_count": null,
   "metadata": {},
   "outputs": [],
   "source": [
    "px.histogram(x=top_5_categories.index, y=top_5_categories.values)"
   ]
  },
  {
   "cell_type": "code",
   "execution_count": null,
   "metadata": {},
   "outputs": [],
   "source": [
    "fig = px.pie(top_5_categories, values=top_5_categories.values, names=top_5_categories.index)\n",
    "\n",
    "fig.show()"
   ]
  },
  {
   "cell_type": "code",
   "execution_count": null,
   "metadata": {},
   "outputs": [],
   "source": [
    "prices = df[\"price\"]\n",
    "\n",
    "display(df[\"price\"])"
   ]
  },
  {
   "cell_type": "code",
   "execution_count": null,
   "metadata": {},
   "outputs": [],
   "source": [
    "mean_price = prices.mean()\n",
    "median_price = prices.median()\n",
    "mode_price = prices.mode()[0]\n",
    "\n",
    "print(f\"Mean Price: {mean_price}\")\n",
    "print(f\"Median Price: {median_price}\")\n",
    "print(f\"Mode Price: {mode_price}\")"
   ]
  },
  {
   "cell_type": "code",
   "execution_count": null,
   "metadata": {},
   "outputs": [],
   "source": [
    "#The mean is much higher than the mode, meaning outliers (very high values) are present.The distribution is not evenly spread around the mean. It's concentrated on the lower end with a tail extending to higher values."
   ]
  },
  {
   "cell_type": "code",
   "execution_count": null,
   "metadata": {},
   "outputs": [],
   "source": [
    "variance_price = prices.var()\n",
    "std_dev_price = prices.std()\n",
    "range_price = prices.max() - prices.min()\n",
    "q1 = prices.quantile(0.25)\n",
    "q3 = prices.quantile(0.75)\n",
    "iqr_price = q3 - q1\n",
    "\n",
    "print(f\"Variance: {variance_price}\")\n",
    "print(f\"Standard Deviation: {std_dev_price}\")\n",
    "print(f\"Range: {range_price}\")\n",
    "print(f\"Interquartile Range: {iqr_price}\")"
   ]
  },
  {
   "cell_type": "code",
   "execution_count": null,
   "metadata": {},
   "outputs": [],
   "source": [
    "# Very high variance, indicating a large spread in the data. Prices vary significantly from the average price. Large standard deviation indicates high variability in prices, which might imply a wide range of product types (e.g., low-cost items versus premium/luxury items).\n",
    "#A range of 100000 is extremely wide, which confirms that there are both very cheap and very expensive products in the dataset. This large range likely reflects the presence of outliers, such as luxury items"
   ]
  },
  {
   "cell_type": "code",
   "execution_count": null,
   "metadata": {},
   "outputs": [],
   "source": [
    "px.histogram(x=prices, nbins = 30)"
   ]
  },
  {
   "cell_type": "code",
   "execution_count": null,
   "metadata": {},
   "outputs": [],
   "source": [
    "prices = prices[prices < 2000]\n",
    "\n",
    "px.histogram(x=prices, nbins=30)"
   ]
  },
  {
   "cell_type": "code",
   "execution_count": null,
   "metadata": {},
   "outputs": [],
   "source": [
    "prices = prices[prices < 500]\n",
    "\n",
    "px.histogram(x=prices, nbins=30)"
   ]
  },
  {
   "cell_type": "code",
   "execution_count": null,
   "metadata": {},
   "outputs": [],
   "source": [
    "prices = prices[prices < 100]\n",
    "\n",
    "px.histogram(x=prices, nbins=30)"
   ]
  },
  {
   "cell_type": "code",
   "execution_count": null,
   "metadata": {},
   "outputs": [],
   "source": [
    "#The problem with the first graphic is that the prices have massive outliers while the majority of the data is on the left of the graphic.\n",
    "#When you try to plot the entire range, the differences between the lower-priced products become hard to see because the large outliers dominate the scale.\n",
    "#You can focus on the more relevant price range by filtering out the extreme outliers. This will help you better visualize where most products fall."
   ]
  },
  {
   "cell_type": "code",
   "execution_count": null,
   "metadata": {},
   "outputs": [],
   "source": [
    "plt.boxplot(prices, vert=False)\n"
   ]
  },
  {
   "cell_type": "code",
   "execution_count": null,
   "metadata": {},
   "outputs": [],
   "source": [
    "ratings = df[\"stars\"]\n",
    "\n",
    "df[\"stars\"]"
   ]
  },
  {
   "cell_type": "code",
   "execution_count": null,
   "metadata": {},
   "outputs": [],
   "source": [
    "mean_rating = ratings.mean()\n",
    "median_rating = ratings.median()\n",
    "mode_rating = ratings.mode()[0]\n",
    "\n",
    "print(f\"Mean Rating: {mean_rating}\")\n",
    "print(f\"Median Rating: {median_rating}\")\n",
    "print(f\"Mode Rating: {mode_rating}\")"
   ]
  },
  {
   "cell_type": "code",
   "execution_count": null,
   "metadata": {},
   "outputs": [],
   "source": [
    "zero_ratings_count = ratings[ratings == 0].count()\n",
    "print(f\"Number of 0 ratings: {zero_ratings_count}\")"
   ]
  },
  {
   "cell_type": "code",
   "execution_count": null,
   "metadata": {},
   "outputs": [],
   "source": [
    "print(ratings.isna().sum())\n",
    "print(ratings.dtypes)"
   ]
  },
  {
   "cell_type": "code",
   "execution_count": null,
   "metadata": {},
   "outputs": [],
   "source": [
    "filtered_ratings = ratings[ratings > 0]\n",
    "\n",
    "mean_rating = filtered_ratings.mean()\n",
    "median_rating = filtered_ratings.median()\n",
    "mode_rating = filtered_ratings.mode()[0]\n",
    "\n",
    "print(f\"Mean Rating: {mean_rating}\")\n",
    "print(f\"Median Rating: {median_rating}\")\n",
    "print(f\"Mode Rating: {mode_rating}\")"
   ]
  },
  {
   "cell_type": "code",
   "execution_count": null,
   "metadata": {},
   "outputs": [],
   "source": [
    "#Had to remove 0 ratings for a proper analysis.\n",
    "#Most products on Amazon UK seem to be rated highly, with a clustering around 4.5.\n",
    "#The mean and median being close to each other indicates a relatively symmetrical distribution, with a slight skew towards higher ratings.\n",
    "#The mode of 4.5 is important, as it shows that this rating is the most frequent across the dataset."
   ]
  },
  {
   "cell_type": "code",
   "execution_count": null,
   "metadata": {},
   "outputs": [],
   "source": [
    "variance_rating = filtered_ratings.var()\n",
    "std_dev_rating = filtered_ratings.std()\n",
    "q1 = filtered_ratings.quantile(0.25)\n",
    "q3 = filtered_ratings.quantile(0.75)\n",
    "iqr_rating = q3 - q1\n",
    "\n",
    "print(f\"Variance: {variance_rating}\")\n",
    "print(f\"Standard Deviation: {std_dev_rating}\")\n",
    "print(f\"IQR: {iqr_rating}\")"
   ]
  },
  {
   "cell_type": "code",
   "execution_count": null,
   "metadata": {},
   "outputs": [],
   "source": [
    "# A small variance means that the ratings are more consistent and don't vary too much from the average rating.\n",
    "# SD also relatively small, which supports the idea that most ratings are close to the mean and not scattered too far.\n",
    "# Overall, it seems that the ratings are fairly consistent and lean towards the higher end of the rating scale. "
   ]
  },
  {
   "cell_type": "code",
   "execution_count": null,
   "metadata": {},
   "outputs": [],
   "source": [
    "!pip install scipy\n",
    "\n",
    "from scipy.stats import skew, kurtosis"
   ]
  },
  {
   "cell_type": "code",
   "execution_count": null,
   "metadata": {},
   "outputs": [],
   "source": [
    "skewness_rating = skew(filtered_ratings)\n",
    "kurtosis_rating = kurtosis(filtered_ratings)\n",
    "\n",
    "print(f\"Skewness: {skewness_rating}\")\n",
    "print(f\"Kurtosis: {kurtosis_rating}\")"
   ]
  },
  {
   "cell_type": "code",
   "execution_count": null,
   "metadata": {},
   "outputs": [],
   "source": [
    "#A skewness of -2.38 indicates that the distribution is heavily skewed toward higher ratings (close to 5), with a few products rated very low, causing the negative skew.\n",
    "#the high kurtosis of 9.78 suggests that the distribution has many extreme ratings, both high and low, leading to a leptokurtic distribution. There are likely some products with very low ratings (e.g., 1 star) and others with ratings close to 5 stars."
   ]
  },
  {
   "cell_type": "code",
   "execution_count": null,
   "metadata": {},
   "outputs": [],
   "source": [
    "plt.hist(filtered_ratings)\n",
    "plt.title(\"Distribution of Product Ratings\")\n",
    "plt.xlabel(\"Rating\")\n",
    "plt.ylabel(\"Frequency\")\n",
    "plt.show()"
   ]
  },
  {
   "cell_type": "code",
   "execution_count": null,
   "metadata": {},
   "outputs": [],
   "source": [
    "#Most common ratings above 4."
   ]
  }
 ],
 "metadata": {
  "kernelspec": {
   "display_name": "Python 3",
   "language": "python",
   "name": "python3"
  },
  "language_info": {
   "codemirror_mode": {
    "name": "ipython",
    "version": 3
   },
   "file_extension": ".py",
   "mimetype": "text/x-python",
   "name": "python",
   "nbconvert_exporter": "python",
   "pygments_lexer": "ipython3",
   "version": "3.13.0"
  }
 },
 "nbformat": 4,
 "nbformat_minor": 2
}
